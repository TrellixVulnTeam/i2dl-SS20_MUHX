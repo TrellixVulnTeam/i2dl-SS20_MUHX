{
 "cells": [
  {
   "cell_type": "markdown",
   "metadata": {},
   "source": [
    "# TODOs:\n",
    "\n",
    "Person 1\n",
    "- Prepare spatial batchnorm\n",
    "- Look at the slides of the lecture and setup initial slides for exercises\n",
    "    - dropout2d vs 1d/bn2d\n",
    "    - show off additional stuff regarding convolutions\n",
    "        - what are the dimensions of a conv kernel\n",
    "        - Receptive field\n",
    "        - Implementations\n",
    "\n",
    "Person 2\n",
    "- Facial Keypoints task as a shortened one of exercise 8-Cifar10\n",
    "- Basically show of dataset\n",
    "    - show images and keypoint as array\n",
    "    - visualize keypoints\n",
    "- introduce task by having a dummy network (always returns the same predicted coordinates) and give them the inference function\n",
    "    - show of dummy networks of pytorch lightning with forward pass\n",
    "    - should work on pytorch models as well as pl models\n",
    "    - show them the criterion not in training sample but what the metric will be\n",
    "- set up backend (test with pytorch and pl)"
   ]
  },
  {
   "cell_type": "code",
   "execution_count": null,
   "metadata": {},
   "outputs": [],
   "source": []
  }
 ],
 "metadata": {
  "kernelspec": {
   "display_name": "Python 3",
   "language": "python",
   "name": "python3"
  },
  "language_info": {
   "codemirror_mode": {
    "name": "ipython",
    "version": 3
   },
   "file_extension": ".py",
   "mimetype": "text/x-python",
   "name": "python",
   "nbconvert_exporter": "python",
   "pygments_lexer": "ipython3",
   "version": "3.8.2"
  }
 },
 "nbformat": 4,
 "nbformat_minor": 2
}
